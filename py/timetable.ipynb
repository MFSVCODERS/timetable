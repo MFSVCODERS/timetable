{
 "cells": [
  {
   "cell_type": "code",
   "execution_count": null,
   "metadata": {},
   "outputs": [],
   "source": [
    "from tkinter import *\n",
    "import customtkinter\n",
    "from PIL import Image,ImageTk\n",
    "import time\n",
    "customtkinter.set_appearance_mode(\"System\")  # Modes: system (default), light, dark\n",
    "customtkinter.set_default_color_theme(\"blue\")\n",
    "root=customtkinter.CTk()\n",
    "root.rowconfigure(0,weight=1)\n",
    "root.columnconfigure(0,weight=1)\n",
    "\n",
    "\n",
    "def fun():\n",
    "    z2.tkraise()\n",
    "def non():\n",
    "    z1.tkraise()\n",
    "\n",
    "def clock():\n",
    "    hour=time.strftime(\"%H\")\n",
    "    minute=time.strftime(\"%M\")\n",
    "    second=time.strftime(\"%S\")\n",
    "    c23.configure(text=hour+\":\"+minute+\":\"+second)\n",
    "    c23.after(1000,clock)\n",
    "\n",
    "z1=customtkinter.CTkFrame(root,fg_color=(\"teal\", \"teal\"))\n",
    "z1.grid(row=0,column=0,sticky=\"nsew\")\n",
    "z2=customtkinter.CTkFrame(root,fg_color=(\"teal\", \"teal\"))\n",
    "z2.grid(row=0,column=0,sticky=\"nsew\")\n",
    "\n",
    "\n",
    "\n",
    "my_image1=customtkinter.CTkImage(light_image=Image.open(\"C:/Users/Dell/Downloads/22.jpeg\"),size=(40,30))\n",
    "my_image2=customtkinter.CTkImage(light_image=Image.open(\"C:/Users/Dell/Downloads/33.jpeg\"),size=(1750,800))\n",
    "\n",
    "l2d=customtkinter.CTkLabel(z1,text=\"\",image=my_image2)\n",
    "l2d.place(relx=0,rely=0)\n",
    "\n",
    "l23=customtkinter.CTkLabel(z1,text=\"TIMETABLE FRAMER\",font=(\"areail\",75,'bold'),fg_color=(\"teal\", \"teal\"),text_color=(\"black\",\"black\"))\n",
    "l23.pack()\n",
    "m23=customtkinter.CTkLabel(z1,text=\"menu\",fg_color=(\"teal\", \"teal\"),text_color=(\"black\",\"black\"),font=(\"areail\",55,\"bold\"))\n",
    "m23.pack(pady=30)\n",
    "\n",
    "g23=customtkinter.CTkButton(z1,text=\"create timetable\",font=(\"areail\",45,\"bold\"))\n",
    "g23.pack(pady=40)\n",
    "g13=customtkinter.CTkButton(z1,text=\"about us\",image=my_image1,font=(\"areail\",45,\"bold\"),command=fun)\n",
    "g13.pack()\n",
    "c23=customtkinter.CTkLabel(z1,text=\"\",font=(\"areail\",40,'bold'),fg_color=(\"teal\", \"black\"),text_color=(\"black\",\"black\"))\n",
    "c23.pack(pady=100)\n",
    "\n",
    "l33=customtkinter.CTkLabel(z2,text=\"ABOUT US\",font=(\"areail\",80,'bold'),text_color=(\"black\",\"black\"))\n",
    "l33.pack()\n",
    "l43=customtkinter.CTkLabel(z2,text='''Hone your creativity with the power of timetable maker.\n",
    "Explore professionally designed templates to get your wheels\n",
    "spinning or create your own timetable from scratch.\n",
    "Establish a theme for your designs using photos, icons, logos, \n",
    "personalized fonts, and other customizable elements to make them \n",
    "feel entirely authentic. Duplicate designs and resize them to \n",
    "create consistency across multiple types of assets. With timetable maker, \n",
    "it's free and easy to make, save, and share your designs within minutes.''',font=(\"areail\",35,'bold'),text_color=(\"black\",\"black\"))\n",
    "l43.pack()\n",
    "g13=customtkinter.CTkButton(z2,text=\"back\",font=(\"areail\",40,\"bold\"),command=non)\n",
    "g13.pack(pady=50)\n",
    "\n",
    "clock()\n",
    "z1.tkraise()\n",
    "root.mainloop()"
   ]
  },
  {
   "cell_type": "code",
   "execution_count": null,
   "metadata": {},
   "outputs": [],
   "source": []
  },
  {
   "cell_type": "code",
   "execution_count": null,
   "metadata": {},
   "outputs": [],
   "source": []
  },
  {
   "cell_type": "code",
   "execution_count": null,
   "metadata": {},
   "outputs": [],
   "source": []
  },
  {
   "cell_type": "code",
   "execution_count": null,
   "metadata": {},
   "outputs": [],
   "source": []
  }
 ],
 "metadata": {
  "kernelspec": {
   "display_name": "Python 3",
   "language": "python",
   "name": "python3"
  },
  "language_info": {
   "codemirror_mode": {
    "name": "ipython",
    "version": 3
   },
   "file_extension": ".py",
   "mimetype": "text/x-python",
   "name": "python",
   "nbconvert_exporter": "python",
   "pygments_lexer": "ipython3",
   "version": "3.7.0"
  }
 },
 "nbformat": 4,
 "nbformat_minor": 2
}
